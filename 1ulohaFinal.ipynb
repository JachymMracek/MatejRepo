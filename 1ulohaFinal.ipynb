{
  "nbformat": 4,
  "nbformat_minor": 0,
  "metadata": {
    "colab": {
      "provenance": [],
      "authorship_tag": "ABX9TyOyMbfWAFKmDY04X9vXOjzB",
      "include_colab_link": true
    },
    "kernelspec": {
      "name": "python3",
      "display_name": "Python 3"
    },
    "language_info": {
      "name": "python"
    }
  },
  "cells": [
    {
      "cell_type": "markdown",
      "metadata": {
        "id": "view-in-github",
        "colab_type": "text"
      },
      "source": [
        "<a href=\"https://colab.research.google.com/github/JachymMracek/JachymMracek_Grafika/blob/main/1ulohaFinal.ipynb\" target=\"_parent\"><img src=\"https://colab.research.google.com/assets/colab-badge.svg\" alt=\"Open In Colab\"/></a>"
      ]
    },
    {
      "cell_type": "code",
      "execution_count": 3,
      "metadata": {
        "id": "19m8PWfGMXCJ"
      },
      "outputs": [],
      "source": [
        "from PIL import Image\n",
        "\n",
        "class Square:\n",
        "    def __init__(self, color, sc):\n",
        "        self.pixels = []\n",
        "        self.sc = sc\n",
        "        self.color = color\n",
        "\n",
        "    def make_square(self):\n",
        "        for i in range(self.sc):\n",
        "            for j in range(self.sc):\n",
        "                self.pixels.append(self.color)\n",
        "\n",
        "class Board:\n",
        "    def __init__(self, rows, cols, sc):\n",
        "        self.squares = []\n",
        "        self.rows = rows\n",
        "        self.cols = cols\n",
        "        self.sc = sc\n",
        "\n",
        "    def make_board(self):\n",
        "        for i in range(self.cols):\n",
        "            for j in range(self.rows):\n",
        "                if i % 2 == 0 and j % 2 == 0:\n",
        "                    square = Square((255, 0, 0), self.sc)\n",
        "                    square.make_square()\n",
        "                elif (i % 2 == 0 and j % 2 == 1) or (i % 2 == 1 and j % 2 == 0):\n",
        "                    square = Square((0, 255, 0), self.sc)\n",
        "                    square.make_square()\n",
        "                elif i % 2 == 1 and j % 2 == 1:\n",
        "                    square = Square((0, 0, 255), self.sc)\n",
        "                    square.make_square()\n",
        "\n",
        "                self.squares.append(square.pixels)\n",
        "\n",
        "def output(board, save_path):\n",
        "    width = board.cols * board.sc\n",
        "    height = board.rows * board.sc\n",
        "\n",
        "    image = Image.new(\"RGB\", (width, height), \"white\")\n",
        "    pixels = image.load()\n",
        "\n",
        "    for i in range(board.cols):\n",
        "        for j in range(board.rows):\n",
        "            for x in range(board.sc):\n",
        "                for y in range(board.sc):\n",
        "                    pixels[i * board.sc + x, j * board.sc + y] = board.squares[i * board.rows + j][x * board.sc + y]\n",
        "\n",
        "    image.show()\n",
        "    image.save(save_path)\n",
        "\n",
        "if __name__ == '__main__':\n",
        "    board = Board(3, 5, 10)\n",
        "    board.make_board()\n",
        "\n",
        "    output(board, \"output_image.png\")\n"
      ]
    }
  ]
}